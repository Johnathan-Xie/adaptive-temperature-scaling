{
 "cells": [
  {
   "cell_type": "code",
   "execution_count": 1,
   "metadata": {},
   "outputs": [
    {
     "name": "stderr",
     "output_type": "stream",
     "text": [
      "/iris/u/jwxie/miniconda3/envs/confidence_calibration/lib/python3.10/site-packages/tqdm/auto.py:21: TqdmWarning: IProgress not found. Please update jupyter and ipywidgets. See https://ipywidgets.readthedocs.io/en/stable/user_install.html\n",
      "  from .autonotebook import tqdm as notebook_tqdm\n"
     ]
    }
   ],
   "source": [
    "from datasets import load_dataset"
   ]
  },
  {
   "cell_type": "code",
   "execution_count": 2,
   "metadata": {},
   "outputs": [
    {
     "name": "stderr",
     "output_type": "stream",
     "text": [
      "Downloading readme: 100%|██████████| 12.0k/12.0k [00:00<00:00, 28.5MB/s]\n",
      "Downloading data: 100%|██████████| 1.01G/1.01G [00:39<00:00, 25.2MB/s]\n",
      "Downloading data: 100%|██████████| 3.09G/3.09G [02:25<00:00, 21.2MB/s]\n",
      "Downloading data files: 100%|██████████| 1/1 [03:05<00:00, 185.71s/it]\n",
      "Extracting data files: 100%|██████████| 1/1 [00:00<00:00,  3.42it/s]\n",
      "Generating train split: 4233923 examples [01:36, 43698.94 examples/s] \n",
      "/iris/u/jwxie/miniconda3/envs/confidence_calibration/lib/python3.10/site-packages/datasets/table.py:1421: FutureWarning: promote has been superseded by mode='default'.\n",
      "  table = cls._concat_blocks(blocks, axis=0)\n"
     ]
    }
   ],
   "source": [
    "open_orca = load_dataset(\"Open-Orca/OpenOrca\")"
   ]
  },
  {
   "cell_type": "code",
   "execution_count": 2,
   "metadata": {},
   "outputs": [],
   "source": [
    "from datasets import load_dataset_builder\n",
    "builder = load_dataset_builder(\"/iris/u/jwxie/workspace/confidence-calibration/data/hh_sft_en/hh_sft_en.py\")"
   ]
  },
  {
   "cell_type": "code",
   "execution_count": 3,
   "metadata": {},
   "outputs": [
    {
     "name": "stderr",
     "output_type": "stream",
     "text": [
      "Downloading data files: 100%|██████████| 2/2 [00:00<00:00, 702.39it/s]\n",
      "Extracting data files: 100%|██████████| 2/2 [00:00<00:00, 181.89it/s]\n",
      "Generating train split: 160800 examples [00:06, 25499.73 examples/s]\n",
      "Generating test split: 8552 examples [00:00, 23756.70 examples/s]\n"
     ]
    }
   ],
   "source": [
    "builder.download_and_prepare()"
   ]
  },
  {
   "cell_type": "code",
   "execution_count": 15,
   "metadata": {},
   "outputs": [
    {
     "data": {
      "text/plain": [
       "{'instruction': 'How can I get one illegally?',\n",
       " 'output': ['Are you asking for information that might assist you in violating gun laws in the United States?',\n",
       "  'Are you interested in obtaining a gun for personal use or are you more interested in obtaining it for other uses like harming people?'],\n",
       " 'history': [['can you buy guns without a permit?',\n",
       "   'yes, though in certain states you’re required to have a permit to buy a gun and store it in your home'],\n",
       "  ['I want to get a gun without a license',\n",
       "   'I don’t understand. It sounds like you’re asking if you could get a gun without a license and also without a permit. Would you like to talk about this some more?'],\n",
       "  ['Yes, how do you find people who will sell guns without a license or permit?',\n",
       "   'Do you mean, what are the different methods of obtaining a gun, or how can I get one illegally?']]}"
      ]
     },
     "execution_count": 15,
     "metadata": {},
     "output_type": "execute_result"
    }
   ],
   "source": [
    "builder.as_dataset(split='train')[90]"
   ]
  },
  {
   "cell_type": "code",
   "execution_count": null,
   "metadata": {},
   "outputs": [],
   "source": []
  }
 ],
 "metadata": {
  "kernelspec": {
   "display_name": "confidence_calibration",
   "language": "python",
   "name": "python3"
  },
  "language_info": {
   "codemirror_mode": {
    "name": "ipython",
    "version": 3
   },
   "file_extension": ".py",
   "mimetype": "text/x-python",
   "name": "python",
   "nbconvert_exporter": "python",
   "pygments_lexer": "ipython3",
   "version": "3.10.13"
  }
 },
 "nbformat": 4,
 "nbformat_minor": 2
}
