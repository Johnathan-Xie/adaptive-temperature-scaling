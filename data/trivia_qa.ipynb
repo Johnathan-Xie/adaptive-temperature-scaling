{
 "cells": [
  {
   "cell_type": "code",
   "execution_count": 24,
   "metadata": {},
   "outputs": [],
   "source": [
    "from datasets import load_dataset"
   ]
  },
  {
   "cell_type": "code",
   "execution_count": 25,
   "metadata": {},
   "outputs": [],
   "source": [
    "trivia_qa = load_dataset(\"trivia_qa\", 'rc.wikipedia.nocontext')"
   ]
  },
  {
   "cell_type": "code",
   "execution_count": 20,
   "metadata": {},
   "outputs": [],
   "source": [
    "natural_questions = load_dataset(\"nq_open\")"
   ]
  },
  {
   "cell_type": "code",
   "execution_count": 23,
   "metadata": {},
   "outputs": [
    {
     "data": {
      "text/plain": [
       "{'question': 'where did they film hot tub time machine',\n",
       " 'answer': ['Fernie Alpine Resort']}"
      ]
     },
     "execution_count": 23,
     "metadata": {},
     "output_type": "execute_result"
    }
   ],
   "source": [
    "natural_questions[\"train\"][0]"
   ]
  },
  {
   "cell_type": "code",
   "execution_count": 26,
   "metadata": {},
   "outputs": [],
   "source": [
    "from datasets import Dataset, DatasetDict\n",
    "def format_trivia_qa(dataset):\n",
    "    return Dataset.from_dict({\"question\": dataset[\"question\"], \"answer\": [i[\"aliases\"] for i in dataset[\"answer\"]]}) "
   ]
  },
  {
   "cell_type": "code",
   "execution_count": 27,
   "metadata": {},
   "outputs": [],
   "source": [
    "validation_processed = format_trivia_qa(trivia_qa[\"validation\"])\n",
    "train_processed = format_trivia_qa(trivia_qa[\"train\"])"
   ]
  },
  {
   "cell_type": "code",
   "execution_count": 29,
   "metadata": {},
   "outputs": [
    {
     "data": {
      "text/plain": [
       "{'question': 'Which Lloyd Webber musical premiered in the US on 10th December 1993?',\n",
       " 'answer': ['Sunset Blvd',\n",
       "  'West Sunset Boulevard',\n",
       "  'Sunset Boulevard',\n",
       "  'Sunset Bulevard',\n",
       "  'Sunset Blvd.']}"
      ]
     },
     "execution_count": 29,
     "metadata": {},
     "output_type": "execute_result"
    }
   ],
   "source": [
    "validation_processed[0]"
   ]
  },
  {
   "cell_type": "code",
   "execution_count": 18,
   "metadata": {},
   "outputs": [
    {
     "data": {
      "text/plain": [
       "{'question': 'Who was the next British Prime Minister after Arthur Balfour?',\n",
       " 'answer': 'Sir Henry Campbell-Bannerman'}"
      ]
     },
     "execution_count": 18,
     "metadata": {},
     "output_type": "execute_result"
    }
   ],
   "source": [
    "validation_processed[1]"
   ]
  },
  {
   "cell_type": "code",
   "execution_count": 30,
   "metadata": {},
   "outputs": [],
   "source": [
    "new_trivia_qa = DatasetDict({\n",
    "    \"train\": train_processed,\n",
    "    \"test\": validation_processed,\n",
    "})"
   ]
  },
  {
   "cell_type": "code",
   "execution_count": 31,
   "metadata": {},
   "outputs": [
    {
     "name": "stderr",
     "output_type": "stream",
     "text": [
      "Creating parquet from Arrow format: 100%|██████████| 62/62 [00:00<00:00, 371.48ba/s]\n",
      "Pushing dataset shards to the dataset hub: 100%|██████████| 1/1 [00:01<00:00,  1.45s/it]\n",
      "Deleting unused files from dataset repository: 100%|██████████| 1/1 [00:00<00:00,  4.19it/s]\n",
      "Creating parquet from Arrow format: 100%|██████████| 8/8 [00:00<00:00, 291.51ba/s]\n",
      "Pushing dataset shards to the dataset hub: 100%|██████████| 1/1 [00:00<00:00,  1.00it/s]\n",
      "Deleting unused files from dataset repository: 100%|██████████| 1/1 [00:00<00:00,  3.64it/s]\n",
      "Downloading metadata: 100%|██████████| 569/569 [00:00<00:00, 2.09MB/s]\n"
     ]
    }
   ],
   "source": [
    "new_trivia_qa.push_to_hub(\"jxie/trivia_qa\")"
   ]
  },
  {
   "cell_type": "code",
   "execution_count": 14,
   "metadata": {},
   "outputs": [],
   "source": [
    "from datasets import Dataset, DatasetDict\n",
    "def format_natural_questions(dataset):\n",
    "    return Dataset.from_dict({\"question\": [i + \"?\" for i in dataset[\"question\"]], \"answer\": [i[0] for i in dataset[\"answer\"]]}) "
   ]
  },
  {
   "cell_type": "code",
   "execution_count": 26,
   "metadata": {},
   "outputs": [],
   "source": [
    "validation_processed = format_natural_questions(natural_questions[\"validation\"])\n",
    "train_processed = format_natural_questions(natural_questions[\"train\"])"
   ]
  },
  {
   "cell_type": "code",
   "execution_count": 27,
   "metadata": {},
   "outputs": [],
   "source": [
    "new_natural_questions = DatasetDict({\n",
    "    \"train\": train_processed,\n",
    "    \"test\": validation_processed,\n",
    "})"
   ]
  },
  {
   "cell_type": "code",
   "execution_count": 28,
   "metadata": {},
   "outputs": [
    {
     "name": "stderr",
     "output_type": "stream",
     "text": [
      "Pushing dataset shards to the dataset hub: 100%|██████████| 1/1 [00:00<00:00, 24966.10it/s]\n",
      "Pushing dataset shards to the dataset hub: 100%|██████████| 1/1 [00:00<00:00, 9822.73it/s]\n",
      "Downloading metadata: 100%|██████████| 582/582 [00:00<00:00, 3.33MB/s]\n"
     ]
    }
   ],
   "source": [
    "new_natural_questions.push_to_hub(\"jxie/natural_questions\")"
   ]
  },
  {
   "cell_type": "code",
   "execution_count": 46,
   "metadata": {},
   "outputs": [],
   "source": [
    "from evaluate import load"
   ]
  },
  {
   "cell_type": "code",
   "execution_count": 59,
   "metadata": {},
   "outputs": [],
   "source": [
    "exact_match_metric = load(\"exact_match\")"
   ]
  },
  {
   "cell_type": "code",
   "execution_count": 63,
   "metadata": {},
   "outputs": [
    {
     "ename": "TypeError",
     "evalue": "ExactMatch._compute() got an unexpected keyword argument 'aggregation'",
     "output_type": "error",
     "traceback": [
      "\u001b[0;31m---------------------------------------------------------------------------\u001b[0m",
      "\u001b[0;31mTypeError\u001b[0m                                 Traceback (most recent call last)",
      "\u001b[1;32m/iris/u/jwxie/workspace/confidence-calibration/data/trivia_qa.ipynb Cell 17\u001b[0m line \u001b[0;36m1\n\u001b[0;32m----> <a href='vscode-notebook-cell://ssh-remote%2Biris6/iris/u/jwxie/workspace/confidence-calibration/data/trivia_qa.ipynb#X32sdnNjb2RlLXJlbW90ZQ%3D%3D?line=0'>1</a>\u001b[0m exact_match_metric\u001b[39m.\u001b[39;49mcompute(predictions\u001b[39m=\u001b[39;49m[\u001b[39m\"\u001b[39;49m\u001b[39mHi\u001b[39;49m\u001b[39m\"\u001b[39;49m], references\u001b[39m=\u001b[39;49m[\u001b[39m\"\u001b[39;49m\u001b[39mhi\u001b[39;49m\u001b[39m\"\u001b[39;49m], aggregation\u001b[39m=\u001b[39;49m\u001b[39mNone\u001b[39;49;00m)\n",
      "File \u001b[0;32m/iris/u/jwxie/miniconda3/envs/confidence_calibration/lib/python3.10/site-packages/evaluate/module.py:462\u001b[0m, in \u001b[0;36mEvaluationModule.compute\u001b[0;34m(self, predictions, references, **kwargs)\u001b[0m\n\u001b[1;32m    460\u001b[0m inputs \u001b[39m=\u001b[39m {input_name: \u001b[39mself\u001b[39m\u001b[39m.\u001b[39mdata[input_name] \u001b[39mfor\u001b[39;00m input_name \u001b[39min\u001b[39;00m \u001b[39mself\u001b[39m\u001b[39m.\u001b[39m_feature_names()}\n\u001b[1;32m    461\u001b[0m \u001b[39mwith\u001b[39;00m temp_seed(\u001b[39mself\u001b[39m\u001b[39m.\u001b[39mseed):\n\u001b[0;32m--> 462\u001b[0m     output \u001b[39m=\u001b[39m \u001b[39mself\u001b[39;49m\u001b[39m.\u001b[39;49m_compute(\u001b[39m*\u001b[39;49m\u001b[39m*\u001b[39;49minputs, \u001b[39m*\u001b[39;49m\u001b[39m*\u001b[39;49mcompute_kwargs)\n\u001b[1;32m    464\u001b[0m \u001b[39mif\u001b[39;00m \u001b[39mself\u001b[39m\u001b[39m.\u001b[39mbuf_writer \u001b[39mis\u001b[39;00m \u001b[39mnot\u001b[39;00m \u001b[39mNone\u001b[39;00m:\n\u001b[1;32m    465\u001b[0m     \u001b[39mself\u001b[39m\u001b[39m.\u001b[39mbuf_writer \u001b[39m=\u001b[39m \u001b[39mNone\u001b[39;00m\n",
      "\u001b[0;31mTypeError\u001b[0m: ExactMatch._compute() got an unexpected keyword argument 'aggregation'"
     ]
    }
   ],
   "source": [
    "exact_match_metric.compute(predictions=[\"Hi\"], references=[\"hi\"])"
   ]
  },
  {
   "cell_type": "code",
   "execution_count": null,
   "metadata": {},
   "outputs": [],
   "source": [
    "trivia_qa[\"train\"][1][\"answer\"][\"aliases\"]"
   ]
  },
  {
   "cell_type": "code",
   "execution_count": 2,
   "metadata": {},
   "outputs": [],
   "source": [
    "from datasets import load_dataset_builder\n",
    "builder = load_dataset_builder(\"/iris/u/jwxie/workspace/confidence-calibration/data/hh_sft_en/hh_sft_en.py\")"
   ]
  },
  {
   "cell_type": "code",
   "execution_count": 3,
   "metadata": {},
   "outputs": [
    {
     "name": "stderr",
     "output_type": "stream",
     "text": [
      "Downloading data files: 100%|██████████| 2/2 [00:00<00:00, 702.39it/s]\n",
      "Extracting data files: 100%|██████████| 2/2 [00:00<00:00, 181.89it/s]\n",
      "Generating train split: 160800 examples [00:06, 25499.73 examples/s]\n",
      "Generating test split: 8552 examples [00:00, 23756.70 examples/s]\n"
     ]
    }
   ],
   "source": [
    "builder.download_and_prepare()"
   ]
  },
  {
   "cell_type": "code",
   "execution_count": 15,
   "metadata": {},
   "outputs": [
    {
     "data": {
      "text/plain": [
       "{'instruction': 'How can I get one illegally?',\n",
       " 'output': ['Are you asking for information that might assist you in violating gun laws in the United States?',\n",
       "  'Are you interested in obtaining a gun for personal use or are you more interested in obtaining it for other uses like harming people?'],\n",
       " 'history': [['can you buy guns without a permit?',\n",
       "   'yes, though in certain states you’re required to have a permit to buy a gun and store it in your home'],\n",
       "  ['I want to get a gun without a license',\n",
       "   'I don’t understand. It sounds like you’re asking if you could get a gun without a license and also without a permit. Would you like to talk about this some more?'],\n",
       "  ['Yes, how do you find people who will sell guns without a license or permit?',\n",
       "   'Do you mean, what are the different methods of obtaining a gun, or how can I get one illegally?']]}"
      ]
     },
     "execution_count": 15,
     "metadata": {},
     "output_type": "execute_result"
    }
   ],
   "source": [
    "builder.as_dataset(split='train')[90]"
   ]
  },
  {
   "cell_type": "code",
   "execution_count": null,
   "metadata": {},
   "outputs": [],
   "source": []
  }
 ],
 "metadata": {
  "kernelspec": {
   "display_name": "confidence_calibration",
   "language": "python",
   "name": "python3"
  },
  "language_info": {
   "codemirror_mode": {
    "name": "ipython",
    "version": 3
   },
   "file_extension": ".py",
   "mimetype": "text/x-python",
   "name": "python",
   "nbconvert_exporter": "python",
   "pygments_lexer": "ipython3",
   "version": "3.10.13"
  }
 },
 "nbformat": 4,
 "nbformat_minor": 2
}
